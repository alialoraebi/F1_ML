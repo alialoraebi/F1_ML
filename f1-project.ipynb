{
 "cells": [
  {
   "cell_type": "markdown",
   "metadata": {},
   "source": [
    "# Driver Standing and Constructor Standings Predictions\n",
    "\n",
    "This projects aims to predict future standings based on past performance trends"
   ]
  },
  {
   "cell_type": "code",
   "execution_count": 1,
   "metadata": {},
   "outputs": [],
   "source": [
    "import pandas as pd\n",
    "\n",
    "# Load the datasets\n",
    "driver_standings = pd.read_csv('f1/driver_standings.csv')\n",
    "constructor_standings = pd.read_csv('f1/constructor_standings.csv')\n",
    "races = pd.read_csv('f1/races.csv')\n",
    "drivers = pd.read_csv('f1/drivers.csv')\n",
    "constructors = pd.read_csv('f1/constructors.csv')\n",
    "results = pd.read_csv('f1/results.csv')\n",
    "\n",
    "# Cleaning the datasets\n",
    "driver_standings.drop(['positionText'], axis=1, inplace=True)\n",
    "constructor_standings.drop(['positionText'], axis=1, inplace=True)\n",
    "races.drop(['url', 'fp1_date', 'fp1_time', 'fp2_date', 'fp2_time', 'fp3_date', 'fp3_time', 'quali_date', 'quali_time', 'sprint_date', 'sprint_time'], axis=1, inplace=True)\n",
    "drivers.drop(['driverRef', 'number', 'forename', 'dob', 'nationality', 'url'], axis=1, inplace=True)\n",
    "constructors.drop(['url', 'name', 'nationality'], axis=1, inplace=True)\n",
    "\n",
    "# Merge the datasets\n",
    "merged = pd.merge(driver_standings, races, on='raceId', how='outer')\n",
    "merged = pd.merge(merged, drivers, on='driverId')\n",
    "merged = pd.merge(merged, constructor_standings, on='raceId')\n",
    "merged = pd.merge(merged, constructors, on='constructorId')\n",
    "merged = pd.merge(merged, results, on=['raceId', 'driverId', 'constructorId'])\n",
    "\n",
    "# Filter to specific years\n",
    "merged = merged[(merged['year'] >= 2018) & (merged['year'] <= 2022)]\n",
    "\n",
    "# Sort the merged dataset by date and round\n",
    "merged.sort_values(by=['year', 'round'], ascending=[True, True], inplace=True)\n",
    "\n",
    "# Further data cleaning as per your previous snippet\n",
    "merged.rename(columns={'points_x': 'driver_points', 'points_y': 'constructor_points',\n",
    "                       'wins_x': 'driver_wins', 'wins_y': 'constructor_wins'}, inplace=True)\n",
    "\n",
    "\n",
    "# Save the cleaned and preprocessed merged dataset\n",
    "merged.to_csv('f1/merged_dataset.csv', index=False)\n"
   ]
  },
  {
   "cell_type": "code",
   "execution_count": null,
   "metadata": {},
   "outputs": [],
   "source": []
  }
 ],
 "metadata": {
  "kernelspec": {
   "display_name": "base",
   "language": "python",
   "name": "python3"
  },
  "language_info": {
   "codemirror_mode": {
    "name": "ipython",
    "version": 3
   },
   "file_extension": ".py",
   "mimetype": "text/x-python",
   "name": "python",
   "nbconvert_exporter": "python",
   "pygments_lexer": "ipython3",
   "version": "3.11.4"
  }
 },
 "nbformat": 4,
 "nbformat_minor": 2
}
